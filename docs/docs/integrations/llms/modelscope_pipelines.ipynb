{
 "cells": [
  {
   "cell_type": "markdown",
   "id": "959300d4",
   "metadata": {},
   "source": [
    "# ModelScope Local Pipelines\n",
    "\n",
    "ModelScope models can be run locally through the `ModelScopePipeline` class.\n",
    "\n",
    "The [ModelScope Model Hub](https://www.modelscope.cn/models) hosts large number of models.\n",
    "\n",
    "These can be called from LangChain through this local pipeline wrapper.\n",
    "Current only support LLM(Large Language Models)."
   ]
  },
  {
   "cell_type": "markdown",
   "id": "4c1b8450-5eaf-4d34-8341-2d785448a1ff",
   "metadata": {
    "tags": []
   },
   "source": [
    "To use, you should have the ``modelscope`` python package installed, as well as [pytorch](https://pytorch.org/get-started/locally/). "
   ]
  },
  {
   "cell_type": "code",
   "execution_count": null,
   "id": "d772b637-de00-4663-bd77-9bc96d798db2",
   "metadata": {
    "tags": []
   },
   "outputs": [],
   "source": [
    "%pip install longchain_modelscope"
   ]
  },
  {
   "cell_type": "markdown",
   "id": "91ad075f-71d5-4bc8-ab91-cc0ad5ef16bb",
   "metadata": {},
   "source": [
    "### Model Loading\n",
    "\n",
    "Models can be loaded by specifying the model parameters using the `from_model_id` method."
   ]
  },
  {
   "cell_type": "code",
   "execution_count": null,
   "id": "165ae236-962a-4763-8052-c4836d78a5d2",
   "metadata": {
    "tags": []
   },
   "outputs": [],
   "source": [
    "from langchain_modelscope.llms import ModelScopePipeline\n",
    "\n",
    "modelscope_pipeline = ModelScopePipeline.from_model_id(\n",
    "    model_id=\"qwen/Qwen2-0.5B-Instruct\",\n",
    "    task=\"chat\",\n",
    "    generate_kwargs={'do_sample': True, 'max_new_tokens': 128},\n",
    ")"
   ]
  },
  {
   "cell_type": "markdown",
   "id": "60e7ba8d",
   "metadata": {},
   "source": [
    "### Create Chain\n",
    "\n",
    "With the model loaded into memory, you can compose it with a prompt to\n",
    "form a chain."
   ]
  },
  {
   "cell_type": "code",
   "execution_count": null,
   "id": "3acf0069",
   "metadata": {},
   "outputs": [],
   "source": [
    "from langchain_core.output_parsers import StrOutputParser\n",
    "\n",
    "from langchain_core.prompts import ChatPromptTemplate\n",
    "\n",
    "prompt = ChatPromptTemplate.from_messages([\n",
    "    (\"system\", \"You are a helpful assistant\"),\n",
    "    (\"user\", \"{prompt}\")\n",
    "])\n",
    "parser = StrOutputParser()\n",
    "chain = prompt | modelscope_pipeline | parser\n",
    "\n",
    "question = \"你是谁\"\n",
    "for chunk in chain.stream({\"prompt\": question}):\n",
    "    print(chunk, end=\"|\", flush=True)\n",
    "# print(chain.invoke({\"question\": question}))"
   ]
  },
  {
   "cell_type": "code",
   "execution_count": null,
   "id": "6d4f6dd1-5b4d-4fce-be66-0287e66212ae",
   "metadata": {},
   "outputs": [],
   "source": []
  }
 ],
 "metadata": {
  "kernelspec": {
   "display_name": "Python 3 (ipykernel)",
   "language": "python",
   "name": "python3"
  },
  "language_info": {
   "codemirror_mode": {
    "name": "ipython",
    "version": 3
   },
   "file_extension": ".py",
   "mimetype": "text/x-python",
   "name": "python",
   "nbconvert_exporter": "python",
   "pygments_lexer": "ipython3",
   "version": "3.10.14"
  }
 },
 "nbformat": 4,
 "nbformat_minor": 5
}
