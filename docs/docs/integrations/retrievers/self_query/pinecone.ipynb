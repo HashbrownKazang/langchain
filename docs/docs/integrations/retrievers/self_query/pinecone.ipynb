{
 "cells": [
  {
   "cell_type": "markdown",
   "id": "13afcae7",
   "metadata": {},
   "source": [
    "# Pinecone\n",
    "\n",
    ">[Pinecone](https://docs.pinecone.io/docs/overview) is a vector database with broad functionality.\n",
    "\n",
    "In the walkthrough, we'll demo the `SelfQueryRetriever` with a `Pinecone` vector store."
   ]
  },
  {
   "cell_type": "markdown",
   "id": "68e75fb9",
   "metadata": {},
   "source": [
    "## Creating a Pinecone index\n",
    "First we'll want to create a `Pinecone` vector store and seed it with some data. We've created a small demo set of documents that contain summaries of movies.\n",
    "\n",
    "To use Pinecone, you have to have `pinecone` package installed and you must have an API key and an environment. Here are the [installation instructions](https://docs.pinecone.io/docs/quickstart).\n",
    "\n",
    "**Note:** The self-query retriever requires you to have `lark` package installed."
   ]
  },
  {
   "cell_type": "code",
   "execution_count": 1,
   "id": "63a8af5b",
   "metadata": {},
   "outputs": [],
   "source": [
    "%pip install --upgrade --quiet  lark"
   ]
  },
  {
   "cell_type": "code",
   "execution_count": 2,
   "id": "2f633445-57fe-45f3-84f7-80d3941b9e53",
   "metadata": {},
   "outputs": [],
   "source": [
    "%pip install --upgrade --quiet pinecone-notebooks pinecone-client==3.2.2"
   ]
  },
  {
   "cell_type": "code",
   "execution_count": 3,
   "id": "3eb9c9a4",
   "metadata": {},
   "outputs": [],
   "source": [
    "# Connect to Pinecone and get an API key.\n",
    "from pinecone_notebooks.colab import Authenticate\n",
    "\n",
    "Authenticate()\n",
    "\n",
    "import os\n",
    "\n",
    "api_key = os.environ[\"PINECONE_API_KEY\"]"
   ]
  },
  {
   "cell_type": "markdown",
   "id": "bdaebe0d",
   "metadata": {},
   "source": [
    "We want to use `OpenAIEmbeddings` so we have to get the OpenAI API Key."
   ]
  },
  {
   "cell_type": "code",
   "execution_count": 4,
   "id": "04b33384",
   "metadata": {},
   "outputs": [],
   "source": [
    "import getpass\n",
    "\n",
    "os.environ[\"OPENAI_API_KEY\"] = getpass.getpass(\"OpenAI API Key:\")"
   ]
  },
  {
   "cell_type": "code",
   "execution_count": 5,
   "id": "c9ab3a96",
   "metadata": {},
   "outputs": [],
   "source": [
    "from pinecone import Pinecone, ServerlessSpec\n",
    "\n",
    "api_key = os.getenv(\"PINECONE_API_KEY\") or \"PINECONE_API_KEY\"\n",
    "\n",
    "index_name = \"langchain-self-retriever-demo\"\n",
    "\n",
    "pc = Pinecone(api_key=api_key)"
   ]
  },
  {
   "cell_type": "code",
   "execution_count": 6,
   "id": "cb4a5787",
   "metadata": {},
   "outputs": [],
   "source": [
    "from langchain_core.documents import Document\n",
    "from langchain_openai import OpenAIEmbeddings\n",
    "from langchain_pinecone import PineconeVectorStore\n",
    "\n",
    "embeddings = OpenAIEmbeddings()\n",
    "\n",
    "# create new index\n",
    "if index_name not in pc.list_indexes().names():\n",
    "    pc.create_index(\n",
    "        name=index_name,\n",
    "        dimension=1536,\n",
    "        metric=\"cosine\",\n",
    "        spec=ServerlessSpec(cloud=\"aws\", region=\"us-east-1\"),\n",
    "    )"
   ]
  },
  {
   "cell_type": "code",
   "execution_count": 7,
   "id": "bcbe04d9",
   "metadata": {},
   "outputs": [],
   "source": [
    "docs = [\n",
    "    Document(\n",
    "        page_content=\"A bunch of scientists bring back dinosaurs and mayhem breaks loose\",\n",
    "        metadata={\"year\": 1993, \"rating\": 7.7, \"genre\": [\"action\", \"science fiction\"]},\n",
    "    ),\n",
    "    Document(\n",
    "        page_content=\"Leo DiCaprio gets lost in a dream within a dream within a dream within a ...\",\n",
    "        metadata={\"year\": 2010, \"director\": \"Christopher Nolan\", \"rating\": 8.2},\n",
    "    ),\n",
    "    Document(\n",
    "        page_content=\"A psychologist / detective gets lost in a series of dreams within dreams within dreams and Inception reused the idea\",\n",
    "        metadata={\"year\": 2006, \"director\": \"Satoshi Kon\", \"rating\": 8.6},\n",
    "    ),\n",
    "    Document(\n",
    "        page_content=\"A bunch of normal-sized women are supremely wholesome and some men pine after them\",\n",
    "        metadata={\"year\": 2019, \"director\": \"Greta Gerwig\", \"rating\": 8.3},\n",
    "    ),\n",
    "    Document(\n",
    "        page_content=\"Toys come alive and have a blast doing so\",\n",
    "        metadata={\"year\": 1995, \"genre\": \"animated\"},\n",
    "    ),\n",
    "    Document(\n",
    "        page_content=\"Three men walk into the Zone, three men walk out of the Zone\",\n",
    "        metadata={\n",
    "            \"year\": 1979,\n",
    "            \"director\": \"Andrei Tarkovsky\",\n",
    "            \"genre\": [\"science fiction\", \"thriller\"],\n",
    "            \"rating\": 9.9,\n",
    "        },\n",
    "    ),\n",
    "]\n",
    "vectorstore = PineconeVectorStore.from_documents(\n",
    "    docs, embeddings, index_name=\"langchain-self-retriever-demo\"\n",
    ")"
   ]
  },
  {
   "cell_type": "markdown",
   "id": "5ecaab6d",
   "metadata": {},
   "source": [
    "## Creating our self-querying retriever\n",
    "Now we can instantiate our retriever. To do this we'll need to provide some information upfront about the metadata fields that our documents support and a short description of the document contents."
   ]
  },
  {
   "cell_type": "code",
   "execution_count": 8,
   "id": "86e34dbf",
   "metadata": {},
   "outputs": [],
   "source": [
    "from langchain.chains.query_constructor.base import AttributeInfo\n",
    "from langchain.retrievers.self_query.base import SelfQueryRetriever\n",
    "from langchain_openai import OpenAI\n",
    "\n",
    "metadata_field_info = [\n",
    "    AttributeInfo(\n",
    "        name=\"genre\",\n",
    "        description=\"The genre of the movie\",\n",
    "        type=\"string or list[string]\",\n",
    "    ),\n",
    "    AttributeInfo(\n",
    "        name=\"year\",\n",
    "        description=\"The year the movie was released\",\n",
    "        type=\"integer\",\n",
    "    ),\n",
    "    AttributeInfo(\n",
    "        name=\"director\",\n",
    "        description=\"The name of the movie director\",\n",
    "        type=\"string\",\n",
    "    ),\n",
    "    AttributeInfo(\n",
    "        name=\"rating\", description=\"A 1-10 rating for the movie\", type=\"float\"\n",
    "    ),\n",
    "]\n",
    "document_content_description = \"Brief summary of a movie\"\n",
    "llm = OpenAI(temperature=0)\n",
    "retriever = SelfQueryRetriever.from_llm(\n",
    "    llm, vectorstore, document_content_description, metadata_field_info, verbose=True\n",
    ")"
   ]
  },
  {
   "cell_type": "markdown",
   "id": "ea9df8d4",
   "metadata": {},
   "source": [
    "## Testing it out\n",
    "And now we can try actually using our retriever!"
   ]
  },
  {
   "cell_type": "code",
   "execution_count": 9,
   "id": "38a126e9",
   "metadata": {},
   "outputs": [
    {
     "data": {
      "text/plain": [
       "[Document(page_content='A bunch of scientists bring back dinosaurs and mayhem breaks loose', metadata={'genre': ['action', 'science fiction'], 'rating': 7.7, 'year': 1993.0}),\n",
       " Document(page_content='Toys come alive and have a blast doing so', metadata={'genre': 'animated', 'year': 1995.0}),\n",
       " Document(page_content='Three men walk into the Zone, three men walk out of the Zone', metadata={'director': 'Andrei Tarkovsky', 'genre': ['science fiction', 'thriller'], 'rating': 9.9, 'year': 1979.0}),\n",
       " Document(page_content='A psychologist / detective gets lost in a series of dreams within dreams within dreams and Inception reused the idea', metadata={'director': 'Satoshi Kon', 'rating': 8.6, 'year': 2006.0})]"
      ]
     },
     "execution_count": 9,
     "metadata": {},
     "output_type": "execute_result"
    }
   ],
   "source": [
    "# This example only specifies a relevant query\n",
    "retriever.invoke(\"What are some movies about dinosaurs\")"
   ]
  },
  {
   "cell_type": "code",
   "execution_count": 10,
   "id": "fc3f1e6e",
   "metadata": {},
   "outputs": [
    {
     "data": {
      "text/plain": [
       "[Document(page_content='Three men walk into the Zone, three men walk out of the Zone', metadata={'director': 'Andrei Tarkovsky', 'genre': ['science fiction', 'thriller'], 'rating': 9.9, 'year': 1979.0}),\n",
       " Document(page_content='A psychologist / detective gets lost in a series of dreams within dreams within dreams and Inception reused the idea', metadata={'director': 'Satoshi Kon', 'rating': 8.6, 'year': 2006.0})]"
      ]
     },
     "execution_count": 10,
     "metadata": {},
     "output_type": "execute_result"
    }
   ],
   "source": [
    "# This example only specifies a filter\n",
    "retriever.invoke(\"I want to watch a movie rated higher than 8.5\")"
   ]
  },
  {
   "cell_type": "code",
   "execution_count": 11,
   "id": "b19d4da0",
   "metadata": {},
   "outputs": [
    {
     "data": {
      "text/plain": [
       "[Document(page_content='A bunch of normal-sized women are supremely wholesome and some men pine after them', metadata={'director': 'Greta Gerwig', 'rating': 8.3, 'year': 2019.0})]"
      ]
     },
     "execution_count": 11,
     "metadata": {},
     "output_type": "execute_result"
    }
   ],
   "source": [
    "# This example specifies a query and a filter\n",
    "retriever.invoke(\"Has Greta Gerwig directed any movies about women\")"
   ]
  },
  {
   "cell_type": "code",
   "execution_count": 12,
   "id": "f900e40e",
   "metadata": {},
   "outputs": [
    {
     "data": {
      "text/plain": [
       "[Document(page_content='A psychologist / detective gets lost in a series of dreams within dreams within dreams and Inception reused the idea', metadata={'director': 'Satoshi Kon', 'rating': 8.6, 'year': 2006.0}),\n",
       " Document(page_content='Three men walk into the Zone, three men walk out of the Zone', metadata={'director': 'Andrei Tarkovsky', 'genre': ['science fiction', 'thriller'], 'rating': 9.9, 'year': 1979.0})]"
      ]
     },
     "execution_count": 12,
     "metadata": {},
     "output_type": "execute_result"
    }
   ],
   "source": [
    "# This example specifies a composite filter\n",
    "retriever.invoke(\"What's a highly rated (above 8.5) science fiction film?\")"
   ]
  },
  {
   "cell_type": "code",
   "execution_count": 13,
   "id": "12a51522",
   "metadata": {},
   "outputs": [
    {
     "data": {
      "text/plain": [
       "[]"
      ]
     },
     "execution_count": 13,
     "metadata": {},
     "output_type": "execute_result"
    }
   ],
   "source": [
    "# This example specifies a query and composite filter\n",
    "retriever.invoke(\n",
    "    \"What's a movie after 1990 but before 2005 that's all about toys, and preferably is animated\"\n",
    ")"
   ]
  },
  {
   "cell_type": "markdown",
   "id": "6fe7536c",
   "metadata": {},
   "source": [
    "## Filter k\n",
    "\n",
    "We can also use the self query retriever to specify `k`: the number of documents to fetch.\n",
    "\n",
    "We can do this by passing `enable_limit=True` to the constructor."
   ]
  },
  {
   "cell_type": "code",
   "execution_count": 14,
   "id": "3a2937c2",
   "metadata": {},
   "outputs": [],
   "source": [
    "retriever = SelfQueryRetriever.from_llm(\n",
    "    llm,\n",
    "    vectorstore,\n",
    "    document_content_description,\n",
    "    metadata_field_info,\n",
    "    enable_limit=True,\n",
    "    verbose=True,\n",
    ")"
   ]
  },
  {
   "cell_type": "code",
   "execution_count": 15,
   "id": "83d233aa",
   "metadata": {},
   "outputs": [
    {
     "data": {
      "text/plain": [
       "[Document(page_content='A bunch of scientists bring back dinosaurs and mayhem breaks loose', metadata={'genre': ['action', 'science fiction'], 'rating': 7.7, 'year': 1993.0}),\n",
       " Document(page_content='Toys come alive and have a blast doing so', metadata={'genre': 'animated', 'year': 1995.0})]"
      ]
     },
     "execution_count": 15,
     "metadata": {},
     "output_type": "execute_result"
    }
   ],
   "source": [
    "# This example only specifies a relevant query\n",
    "retriever.invoke(\"What are two movies about dinosaurs\")"
   ]
  },
  {
   "cell_type": "markdown",
   "id": "cd41c5dc",
   "metadata": {},
   "source": [
    "## Using a hybrid vector store with self-query retriever\n",
    "\n",
    "To perform hybrid search, specify a sparse encoder model when instantiating the vector store that we will use with the self query retriever."
   ]
  },
  {
   "cell_type": "markdown",
   "id": "2f17800d",
   "metadata": {},
   "source": [
    "For this demonstration we are using a fitted default `BM25Encoder` model from pinecone_text, `ChatOpenAI` as our llm model, and the same `OpenAIEmbeddings` embeddings model from before. "
   ]
  },
  {
   "cell_type": "code",
   "execution_count": 16,
   "id": "2149b2ee",
   "metadata": {},
   "outputs": [],
   "source": [
    "from langchain_openai import ChatOpenAI\n",
    "from pinecone_text.sparse import BM25Encoder\n",
    "\n",
    "bm25_encoder = BM25Encoder().default()\n",
    "model = ChatOpenAI(temperature=0)"
   ]
  },
  {
   "cell_type": "markdown",
   "id": "65db21a1",
   "metadata": {},
   "source": [
    "To setup a hybrid index, the distance metric must be `dotproduct`. "
   ]
  },
  {
   "cell_type": "code",
   "execution_count": 17,
   "id": "557cb366",
   "metadata": {},
   "outputs": [],
   "source": [
    "hybrid_index_name = \"langchain-self-retriever-demo-hybrid\"\n",
    "distance_strategy = \"dotproduct\"\n",
    "\n",
    "existing_indexes = [index_info[\"name\"] for index_info in pc.list_indexes()]\n",
    "if hybrid_index_name not in existing_indexes:\n",
    "    pc.create_index(\n",
    "        name=hybrid_index_name,\n",
    "        dimension=1536,\n",
    "        metric=\"dotproduct\",\n",
    "        spec=ServerlessSpec(cloud=\"aws\", region=\"us-east-1\"),\n",
    "    )"
   ]
  },
  {
   "cell_type": "markdown",
   "id": "de148627",
   "metadata": {},
   "source": [
    "Now we pass the necessary arguments that we have setup when instantiating the vector store."
   ]
  },
  {
   "cell_type": "code",
   "execution_count": 18,
   "id": "7db0fb26",
   "metadata": {},
   "outputs": [],
   "source": [
    "hybrid_vector_store = PineconeVectorStore(\n",
    "    embedding=embeddings,\n",
    "    sparse_encoder=bm25_encoder,\n",
    "    index_name=hybrid_index_name,\n",
    "    distance_strategy=distance_strategy,\n",
    ")"
   ]
  },
  {
   "cell_type": "markdown",
   "id": "5f175e85",
   "metadata": {},
   "source": [
    "To perform upserts into the index, we can use the `add_texts` function. For texts, we will use the `page_content` portion of the pre-split docs from before."
   ]
  },
  {
   "cell_type": "markdown",
   "id": "eec6ecfa",
   "metadata": {},
   "source": [
    "Since we have passed an encoder model alongside the embeddings model, the upserts have added both sparse and dense values for each text added."
   ]
  },
  {
   "cell_type": "code",
   "execution_count": 19,
   "id": "3a1d0f34",
   "metadata": {},
   "outputs": [
    {
     "data": {
      "text/plain": [
       "['6d0bc4c5-3ae8-47f2-ab6c-f73c477e35f4',\n",
       " '4c743336-315a-44a5-983b-79221c5d9113',\n",
       " 'c5c8eada-d978-4ef6-9847-f606c7c00b40',\n",
       " '26883c54-0dd8-4963-a3e8-11a06c45be95',\n",
       " '8bf1a0b5-2df7-47bf-9579-aad045770209',\n",
       " '3ec1a25e-4109-414a-8282-c238b50e09d3']"
      ]
     },
     "execution_count": 19,
     "metadata": {},
     "output_type": "execute_result"
    }
   ],
   "source": [
    "hybrid_vector_store.add_texts(\n",
    "    texts=[doc.page_content for doc in docs], metadatas=[doc.metadata for doc in docs]\n",
    ")"
   ]
  },
  {
   "cell_type": "markdown",
   "id": "cd331048",
   "metadata": {},
   "source": [
    "Next, we set up a query_constructor for the self query retriever. Here we use `load_query_constructor_runnable`. "
   ]
  },
  {
   "cell_type": "code",
   "execution_count": 20,
   "id": "b91529f3",
   "metadata": {},
   "outputs": [],
   "source": [
    "from langchain.chains.query_constructor.base import load_query_constructor_runnable\n",
    "from langchain_pinecone._utilities import allowed_comparators, allowed_operators\n",
    "\n",
    "query_constructor_runnable = load_query_constructor_runnable(\n",
    "    llm=model,\n",
    "    document_contents=document_content_description,\n",
    "    attribute_info=metadata_field_info,\n",
    "    allowed_comparators=allowed_comparators,\n",
    "    allowed_operators=allowed_operators,\n",
    "    fix_invalid=True,\n",
    ")"
   ]
  },
  {
   "cell_type": "markdown",
   "id": "30ac9e7e",
   "metadata": {},
   "source": [
    "<!-- We also need to use `PineconeTranslator`?, which contains pinecone index specific requirements and constraints. -->"
   ]
  },
  {
   "cell_type": "code",
   "execution_count": 21,
   "id": "14ea9f11",
   "metadata": {},
   "outputs": [],
   "source": [
    "hybrid_retriever = SelfQueryRetriever(\n",
    "    query_constructor=query_constructor_runnable,\n",
    "    vectorstore=hybrid_vector_store,\n",
    "    fix_invalid=True,\n",
    "    enable_limit=True,\n",
    ")"
   ]
  },
  {
   "cell_type": "markdown",
   "id": "f16f32b6",
   "metadata": {},
   "source": [
    "Define a test question and view the resulting structured query."
   ]
  },
  {
   "cell_type": "code",
   "execution_count": 22,
   "id": "cd9a2de7",
   "metadata": {},
   "outputs": [],
   "source": [
    "question = \"What's a movie that's about dream dream dream dreaming about a hazy zone of dreaming, with a rating above 1?\""
   ]
  },
  {
   "cell_type": "code",
   "execution_count": 23,
   "id": "30db275c",
   "metadata": {},
   "outputs": [
    {
     "data": {
      "text/plain": [
       "StructuredQuery(query='dream hazy zone', filter=Comparison(comparator=<Comparator.GT: 'gt'>, attribute='rating', value=1), limit=None)"
      ]
     },
     "execution_count": 23,
     "metadata": {},
     "output_type": "execute_result"
    }
   ],
   "source": [
    "query_constructor_runnable.invoke(question)"
   ]
  },
  {
   "cell_type": "markdown",
   "id": "1a5a626b",
   "metadata": {},
   "source": [
    "A purely semantic search"
   ]
  },
  {
   "cell_type": "code",
   "execution_count": 24,
   "id": "7a52fa1b",
   "metadata": {},
   "outputs": [
    {
     "data": {
      "text/plain": [
       "[Document(page_content='Three men walk into the Zone, three men walk out of the Zone', metadata={'director': 'Andrei Tarkovsky', 'genre': ['science fiction', 'thriller'], 'rating': 9.9, 'year': 1979.0}),\n",
       " Document(page_content='Leo DiCaprio gets lost in a dream within a dream within a dream within a ...', metadata={'director': 'Christopher Nolan', 'rating': 8.2, 'year': 2010.0})]"
      ]
     },
     "execution_count": 24,
     "metadata": {},
     "output_type": "execute_result"
    }
   ],
   "source": [
    "hybrid_retriever.search_kwargs = {\"k\": 2, \"alpha\": 1}\n",
    "hybrid_retriever.invoke({\"query\": question})"
   ]
  },
  {
   "cell_type": "markdown",
   "id": "6a4ec76e",
   "metadata": {},
   "source": [
    "A purely keyword search"
   ]
  },
  {
   "cell_type": "code",
   "execution_count": 25,
   "id": "a7d01cd7",
   "metadata": {},
   "outputs": [
    {
     "data": {
      "text/plain": [
       "[Document(page_content='Leo DiCaprio gets lost in a dream within a dream within a dream within a ...', metadata={'director': 'Christopher Nolan', 'rating': 8.2, 'year': 2010.0}),\n",
       " Document(page_content='A psychologist / detective gets lost in a series of dreams within dreams within dreams and Inception reused the idea', metadata={'director': 'Satoshi Kon', 'rating': 8.6, 'year': 2006.0})]"
      ]
     },
     "execution_count": 25,
     "metadata": {},
     "output_type": "execute_result"
    }
   ],
   "source": [
    "hybrid_retriever.search_kwargs = {\"k\": 2, \"alpha\": 0}  # keyword search\n",
    "hybrid_retriever.invoke({\"query\": question})"
   ]
  },
  {
   "cell_type": "markdown",
   "id": "c7400c61",
   "metadata": {},
   "source": [
    "Let's try another question, this time with `alpha=0.5` to see hybrid search results in comparison to keyword search."
   ]
  },
  {
   "cell_type": "code",
   "execution_count": 26,
   "id": "fa8a8c77",
   "metadata": {},
   "outputs": [
    {
     "data": {
      "text/plain": [
       "StructuredQuery(query='scientists', filter=None, limit=None)"
      ]
     },
     "execution_count": 26,
     "metadata": {},
     "output_type": "execute_result"
    }
   ],
   "source": [
    "query_constructor_runnable.invoke(\"What are movies about scientists\")"
   ]
  },
  {
   "cell_type": "code",
   "execution_count": 27,
   "id": "b4a5b26d",
   "metadata": {},
   "outputs": [
    {
     "data": {
      "text/plain": [
       "[Document(page_content='A bunch of scientists bring back dinosaurs and mayhem breaks loose', metadata={'genre': ['action', 'science fiction'], 'rating': 7.7, 'year': 1993.0}),\n",
       " Document(page_content='A psychologist / detective gets lost in a series of dreams within dreams within dreams and Inception reused the idea', metadata={'director': 'Satoshi Kon', 'rating': 8.6, 'year': 2006.0})]"
      ]
     },
     "execution_count": 27,
     "metadata": {},
     "output_type": "execute_result"
    }
   ],
   "source": [
    "hybrid_retriever.search_kwargs = {\"k\": 2, \"alpha\": 0.5}\n",
    "hybrid_retriever.invoke({\"query\": \"What are movies about scientists\"})"
   ]
  },
  {
   "cell_type": "code",
   "execution_count": 28,
   "id": "6a9b91f9",
   "metadata": {},
   "outputs": [
    {
     "data": {
      "text/plain": [
       "[Document(page_content='A bunch of scientists bring back dinosaurs and mayhem breaks loose', metadata={'genre': ['action', 'science fiction'], 'rating': 7.7, 'year': 1993.0}),\n",
       " Document(page_content='A bunch of normal-sized women are supremely wholesome and some men pine after them', metadata={'director': 'Greta Gerwig', 'rating': 8.3, 'year': 2019.0})]"
      ]
     },
     "execution_count": 28,
     "metadata": {},
     "output_type": "execute_result"
    }
   ],
   "source": [
    "hybrid_retriever.search_kwargs = {\"k\": 2, \"alpha\": 0}\n",
    "hybrid_retriever.invoke({\"query\": \"What are movies about scientists\"})"
   ]
  }
 ],
 "metadata": {
  "kernelspec": {
   "display_name": "Python 3 (ipykernel)",
   "language": "python",
   "name": "python3"
  },
  "language_info": {
   "codemirror_mode": {
    "name": "ipython",
    "version": 3
   },
   "file_extension": ".py",
   "mimetype": "text/x-python",
   "name": "python",
   "nbconvert_exporter": "python",
   "pygments_lexer": "ipython3",
   "version": "3.10.0"
  }
 },
 "nbformat": 4,
 "nbformat_minor": 5
}
