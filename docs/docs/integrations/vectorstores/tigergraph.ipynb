{
 "cells": [
  {
   "cell_type": "markdown",
   "metadata": {},
   "source": [
    "# TigerGraph\n",
    "\n",
    ">[TigerGraph](https://tigergraph.com) is a high performance, scalable, graph database,\n",
    "\n",
    "This notebook shows how to use functionality related to the TigerGraph CoPilot SupportAI Vector Store.\n",
    "\n",
    "To run, you should have a TigerGraph database and TigerGraph CoPilot instance running and the Python client installed. You can install the Python client with `pip install pyTigerGraph`. The easiest way to get a TigerGraph database and CoPilot instance running is to use the [TigerGraph Cloud](https://tgcloud.io)."
   ]
  },
  {
   "cell_type": "markdown",
   "metadata": {},
   "source": [
    "### Create a TigerGraphConnection\n",
    "\n",
    "First, we need to create a connection to the TigerGraph server."
   ]
  },
  {
   "cell_type": "code",
   "execution_count": null,
   "metadata": {},
   "outputs": [],
   "source": [
    "from pyTigerGraph import TigerGraphConnection\n",
    "\n",
    "# We first create a connection to the database\n",
    "conn = TigerGraphConnection(\n",
    "    host=\"https://<your_tigergraph_host>\",\n",
    "    username=\"<your_username>\",\n",
    "    password=\"<your_password>\",\n",
    ")"
   ]
  },
  {
   "cell_type": "markdown",
   "metadata": {},
   "source": [
    "### Create a Graph and Get Authentication Token"
   ]
  },
  {
   "cell_type": "code",
   "execution_count": null,
   "metadata": {},
   "outputs": [],
   "source": [
    "conn.gsql(\"\"\"CREATE GRAPH TigerGraphRAG()\"\"\")\n",
    "\n",
    "conn.graphname = \"TigerGraphRAG\"\n",
    "\n",
    "conn.getToken()"
   ]
  },
  {
   "cell_type": "markdown",
   "metadata": {},
   "source": [
    "### Instantiate the TigerGraphVector object\n",
    "\n",
    "The TigerGraphVector object is used to interact with the CoPilot SupportAI Vector Store.\n",
    "There are several search_type options available, including:\n",
    "- \"hybrid\": This is the default search type. It uses both the graph and the vector store to find the most relevant information.\n",
    "- \"vector\": This search type uses only the vector store to find the most relevant information.\n",
    "- \"sibling\": This search type uses the vector store to find the most relevant information, but returns adjacent document chunks."
   ]
  },
  {
   "cell_type": "code",
   "execution_count": null,
   "metadata": {},
   "outputs": [],
   "source": [
    "from langchain_community.vectorstores import TigerGraphVector\n",
    "\n",
    "# We then create a TigerGraphVector object\n",
    "# By default, the search type is \"hybrid\",\n",
    "# and the search indices are [\"Entity\", \"Relationship\",\n",
    "#                           \"Document\", \"DocumentChunk\"]\n",
    "\n",
    "tg_vector = TigerGraphVector(conn, search_type=\"hybrid\")"
   ]
  },
  {
   "cell_type": "markdown",
   "metadata": {},
   "source": [
    "### Add a Document to the Vector Store\n",
    "\n",
    "We can add a document to the vector store using the `add_texts` method. For a more scaleable solution, we can use the `add_documents_from_blob` method. This utilizes the TigerGraph data streaming connector to add many documents from a blob store such as S3."
   ]
  },
  {
   "cell_type": "code",
   "execution_count": null,
   "metadata": {},
   "outputs": [],
   "source": [
    "# We can then add texts to the TigerGraph instance\n",
    "tg_vector.add_texts([\"This is a test document\"])"
   ]
  },
  {
   "cell_type": "markdown",
   "metadata": {},
   "source": [
    "### Search the Vector Store"
   ]
  },
  {
   "cell_type": "code",
   "execution_count": null,
   "metadata": {},
   "outputs": [],
   "source": [
    "# We can then search for similar documents\n",
    "results = tg_vector.search(\"This is a test document\")"
   ]
  }
 ],
 "metadata": {
  "language_info": {
   "name": "python"
  }
 },
 "nbformat": 4,
 "nbformat_minor": 2
}
