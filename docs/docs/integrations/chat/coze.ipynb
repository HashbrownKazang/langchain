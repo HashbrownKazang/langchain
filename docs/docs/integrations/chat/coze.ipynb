{
 "cells": [
  {
   "cell_type": "raw",
   "metadata": {},
   "source": [
    "---\n",
    "sidebar_label: Coze Chat\n",
    "---"
   ]
  },
  {
   "cell_type": "markdown",
   "metadata": {},
   "source": [
    "# Chat with Coze Bot\n",
    "\n",
    "ChatCoze chat models API by coze.com. For more information, see [https://www.coze.com/open/docs/chat](https://www.coze.com/open/docs/chat)"
   ]
  },
  {
   "cell_type": "code",
   "execution_count": null,
   "metadata": {},
   "outputs": [],
   "source": [
    "%pip install -qU langchain-community"
   ]
  },
  {
   "cell_type": "code",
   "execution_count": 1,
   "metadata": {
    "ExecuteTime": {
     "end_time": "2024-04-25T15:14:24.186131Z",
     "start_time": "2024-04-25T15:14:23.831767Z"
    }
   },
   "outputs": [],
   "source": [
    "from langchain_community.chat_models import ChatCoze\n",
    "from langchain_core.messages import HumanMessage"
   ]
  },
  {
   "cell_type": "code",
   "execution_count": 2,
   "metadata": {
    "ExecuteTime": {
     "end_time": "2024-04-25T15:14:24.191123Z",
     "start_time": "2024-04-25T15:14:24.186330Z"
    }
   },
   "outputs": [],
   "source": [
    "chat = ChatCoze(\n",
    "    coze_api_base=\"YOUR_API_BASE\",\n",
    "    coze_api_key=\"YOUR_API_KEY\",\n",
    "    bot_id=\"YOUR_BOT_ID\",\n",
    "    user=\"YOUR_USER_ID\",\n",
    "    conversation_id=\"YOUR_CONVERSATION_ID\",\n",
    "    streaming=False,\n",
    ")"
   ]
  },
  {
   "cell_type": "markdown",
   "metadata": {},
   "source": [
    "Alternatively, you can set your API key and API base with:"
   ]
  },
  {
   "cell_type": "code",
   "execution_count": null,
   "metadata": {},
   "outputs": [],
   "source": [
    "import os\n",
    "\n",
    "os.environ[\"COZE_API_KEY\"] = \"YOUR_API_KEY\"\n",
    "os.environ[\"COZE_API_BASE\"] = \"YOUR_API_BASE\""
   ]
  },
  {
   "cell_type": "code",
   "execution_count": 3,
   "metadata": {
    "ExecuteTime": {
     "end_time": "2024-04-25T15:14:25.853218Z",
     "start_time": "2024-04-25T15:14:24.192408Z"
    }
   },
   "outputs": [
    {
     "data": {
      "text/plain": [
       "AIMessage(content='\u4e3a\u4f60\u627e\u5230\u5173\u4e8ecoze\u7684\u4fe1\u606f\u5982\u4e0b\uff1a\n",
       "\n",
       "Coze\u662f\u4e00\u4e2a\u7531\u5b57\u8282\u8df3\u52a8\u63a8\u51fa\u7684AI\u804a\u5929\u673a\u5668\u4eba\u548c\u5e94\u7528\u7a0b\u5e8f\u7f16\u8f91\u5f00\u53d1\u5e73\u53f0\u3002\n",
       "\n",
       "\u7528\u6237\u65e0\u8bba\u662f\u5426\u6709\u7f16\u7a0b\u7ecf\u9a8c\uff0c\u90fd\u53ef\u4ee5\u901a\u8fc7\u8be5\u5e73\u53f0\u5feb\u901f\u521b\u5efa\u5404\u79cd\u7c7b\u578b\u7684\u804a\u5929\u673a\u5668\u4eba\u3001\u667a\u80fd\u4f53\u3001AI\u5e94\u7528\u548c\u63d2\u4ef6\uff0c\u5e76\u5c06\u5176\u90e8\u7f72\u5728\u793e\u4ea4\u5e73\u53f0\u548c\u5373\u65f6\u804a\u5929\u5e94\u7528\u7a0b\u5e8f\u4e2d\u3002\n",
       "\n",
       "\u56fd\u9645\u7248\u4f7f\u7528\u7684\u6a21\u578b\u6bd4\u56fd\u5185\u7248\u66f4\u5f3a\u5927\u3002')"
      ]
     },
     "execution_count": 3,
     "metadata": {},
     "output_type": "execute_result"
    }
   ],
   "source": [
    "chat([HumanMessage(content=\"\u4ec0\u4e48\u662f\u6263\u5b50(coze)\")])"
   ]
  },
  {
   "cell_type": "markdown",
   "metadata": {
    "collapsed": false
   },
   "source": [
    "## Chat with Coze Streaming"
   ]
  },
  {
   "cell_type": "code",
   "execution_count": 5,
   "metadata": {
    "ExecuteTime": {
     "end_time": "2024-04-25T15:14:25.870044Z",
     "start_time": "2024-04-25T15:14:25.863381Z"
    },
    "collapsed": false
   },
   "outputs": [],
   "source": [
    "chat = ChatCoze(\n",
    "    coze_api_base=\"YOUR_API_BASE\",\n",
    "    coze_api_key=\"YOUR_API_KEY\",\n",
    "    bot_id=\"YOUR_BOT_ID\",\n",
    "    user=\"YOUR_USER_ID\",\n",
    "    conversation_id=\"YOUR_CONVERSATION_ID\",\n",
    "    streaming=True,\n",
    ")"
   ]
  },
  {
   "cell_type": "code",
   "execution_count": 6,
   "metadata": {
    "ExecuteTime": {
     "end_time": "2024-04-25T15:14:27.153546Z",
     "start_time": "2024-04-25T15:14:25.868470Z"
    },
    "collapsed": false
   },
   "outputs": [
    {
     "data": {
      "text/plain": [
       "AIMessageChunk(content='\u4e3a\u4f60\u67e5\u8be2\u5230Coze\u662f\u4e00\u4e2a\u7531\u5b57\u8282\u8df3\u52a8\u63a8\u51fa\u7684AI\u804a\u5929\u673a\u5668\u4eba\u548c\u5e94\u7528\u7a0b\u5e8f\u7f16\u8f91\u5f00\u53d1\u5e73\u53f0\u3002')"
      ]
     },
     "execution_count": 6,
     "metadata": {},
     "output_type": "execute_result"
    }
   ],
   "source": [
    "chat([HumanMessage(content=\"\u4ec0\u4e48\u662f\u6263\u5b50(coze)\")])"
   ]
  }
 ],
 "metadata": {
  "kernelspec": {
   "display_name": "Python 3 (ipykernel)",
   "language": "python",
   "name": "python3"
  },
  "language_info": {
   "codemirror_mode": {
    "name": "ipython",
    "version": 3
   },
   "file_extension": ".py",
   "mimetype": "text/x-python",
   "name": "python",
   "nbconvert_exporter": "python",
   "pygments_lexer": "ipython3",
   "version": "3.11.4"
  }
 },
 "nbformat": 4,
 "nbformat_minor": 2
}