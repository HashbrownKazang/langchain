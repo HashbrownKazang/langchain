{
 "cells": [
  {
   "cell_type": "raw",
   "id": "66107bdd",
   "metadata": {},
   "source": [
    "---\n",
    "sidebar_label: Volc Enging Maas\n",
    "---"
   ]
  },
  {
   "cell_type": "markdown",
   "id": "404758628c7b20f6",
   "metadata": {
    "collapsed": false
   },
   "source": [
    "# VolcEngineMaasChat\n",
    "\n",
    "This notebook provides you with a guide on how to get started with volc engine maas chat models."
   ]
  },
  {
   "cell_type": "code",
   "execution_count": null,
   "id": "2cd2ebd9d023c4d3",
   "metadata": {
    "collapsed": false
   },
   "outputs": [],
   "source": [
    "# Install the package\n",
    "%pip install --upgrade --quiet  volcengine langchain-community"
   ]
  },
  {
   "cell_type": "code",
   "execution_count": 20,
   "id": "51e7f967cb78f5b7",
   "metadata": {
    "ExecuteTime": {
     "end_time": "2023-11-27T10:43:37.131292Z",
     "start_time": "2023-11-27T10:43:37.127250Z"
    },
    "collapsed": false
   },
   "outputs": [],
   "source": [
    "from langchain_community.chat_models import VolcEngineMaasChat\n",
    "from langchain_core.messages import HumanMessage"
   ]
  },
  {
   "cell_type": "code",
   "execution_count": 25,
   "id": "139667d44689f9e0",
   "metadata": {
    "ExecuteTime": {
     "end_time": "2023-11-27T10:43:49.911867Z",
     "start_time": "2023-11-27T10:43:49.908329Z"
    },
    "collapsed": false
   },
   "outputs": [],
   "source": [
    "chat = VolcEngineMaasChat(volc_engine_maas_ak=\"your ak\", volc_engine_maas_sk=\"your sk\")"
   ]
  },
  {
   "cell_type": "markdown",
   "id": "e84ebc4feedcc739",
   "metadata": {
    "collapsed": false
   },
   "source": [
    "or you can set access_key and secret_key in your environment variables\n",
    "```bash\n",
    "export VOLC_ACCESSKEY=YOUR_AK\n",
    "export VOLC_SECRETKEY=YOUR_SK\n",
    "```"
   ]
  },
  {
   "cell_type": "code",
   "execution_count": 26,
   "id": "35da18414ad17aa0",
   "metadata": {
    "ExecuteTime": {
     "end_time": "2023-11-27T10:43:53.101852Z",
     "start_time": "2023-11-27T10:43:51.741041Z"
    },
    "collapsed": false
   },
   "outputs": [
    {
     "data": {
      "text/plain": [
       "AIMessage(content='\u597d\u7684\uff0c\u8fd9\u662f\u4e00\u4e2a\u7b11\u8bdd\uff1a\\n\\n\u4e3a\u4ec0\u4e48\u9e1f\u513f\u4e0d\u4f1a\u73a9\u7535\u8111\u6e38\u620f\uff1f\\n\\n\u56e0\u4e3a\u5b83\u4eec\u6ca1\u6709\u7fc5\u8180\uff01')"
      ]
     },
     "execution_count": 26,
     "metadata": {},
     "output_type": "execute_result"
    }
   ],
   "source": [
    "chat([HumanMessage(content=\"\u7ed9\u6211\u8bb2\u4e2a\u7b11\u8bdd\")])"
   ]
  },
  {
   "cell_type": "markdown",
   "id": "a55e5a9ed80ec49e",
   "metadata": {
    "collapsed": false
   },
   "source": [
    "# volc engine maas chat with stream"
   ]
  },
  {
   "cell_type": "code",
   "execution_count": 27,
   "id": "b4e4049980ac68ef",
   "metadata": {
    "ExecuteTime": {
     "end_time": "2023-11-27T10:43:55.120405Z",
     "start_time": "2023-11-27T10:43:55.114707Z"
    },
    "collapsed": false
   },
   "outputs": [],
   "source": [
    "chat = VolcEngineMaasChat(\n",
    "    volc_engine_maas_ak=\"your ak\",\n",
    "    volc_engine_maas_sk=\"your sk\",\n",
    "    streaming=True,\n",
    ")"
   ]
  },
  {
   "cell_type": "code",
   "execution_count": 28,
   "id": "fe709a4ffb5c811d",
   "metadata": {
    "ExecuteTime": {
     "end_time": "2023-11-27T10:43:58.775294Z",
     "start_time": "2023-11-27T10:43:56.799401Z"
    },
    "collapsed": false
   },
   "outputs": [
    {
     "data": {
      "text/plain": [
       "AIMessage(content='\u597d\u7684\uff0c\u8fd9\u662f\u4e00\u4e2a\u7b11\u8bdd\uff1a\\n\\n\u4e09\u5c81\u7684\u5973\u513f\u8bf4\u5979\u4f1a\u9020\u53e5\u4e86\uff0c\u5988\u5988\u8ba9\u5979\u7528\u201c\u5e74\u8f7b\u201d\u9020\u53e5\uff0c\u5973\u513f\u8bf4\uff1a\u201c\u5988\u5988\u51cf\u80a5\uff0c\u4e00\u5e74\u8f7b\u4e86\u597d\u51e0\u65a4\u201d\u3002')"
      ]
     },
     "execution_count": 28,
     "metadata": {},
     "output_type": "execute_result"
    }
   ],
   "source": [
    "chat([HumanMessage(content=\"\u7ed9\u6211\u8bb2\u4e2a\u7b11\u8bdd\")])"
   ]
  }
 ],
 "metadata": {
  "kernelspec": {
   "display_name": "Python 3",
   "language": "python",
   "name": "python3"
  },
  "language_info": {
   "codemirror_mode": {
    "name": "ipython",
    "version": 2
   },
   "file_extension": ".py",
   "mimetype": "text/x-python",
   "name": "python",
   "nbconvert_exporter": "python",
   "pygments_lexer": "ipython2",
   "version": "2.7.6"
  }
 },
 "nbformat": 4,
 "nbformat_minor": 5
}