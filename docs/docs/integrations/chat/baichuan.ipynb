{
 "cells": [
  {
   "cell_type": "raw",
   "metadata": {},
   "source": [
    "---\n",
    "sidebar_label: Baichuan Chat\n",
    "---"
   ]
  },
  {
   "cell_type": "markdown",
   "metadata": {},
   "source": [
    "# Chat with Baichuan-192K\n",
    "\n",
    "Baichuan chat models API by Baichuan Intelligent Technology. For more information, see [https://platform.baichuan-ai.com/docs/api](https://platform.baichuan-ai.com/docs/api)"
   ]
  },
  {
   "cell_type": "code",
   "execution_count": null,
   "metadata": {},
   "outputs": [],
   "source": [
    "%pip install -qU langchain-community"
   ]
  },
  {
   "cell_type": "code",
   "execution_count": 1,
   "metadata": {
    "ExecuteTime": {
     "end_time": "2023-10-17T15:14:24.186131Z",
     "start_time": "2023-10-17T15:14:23.831767Z"
    }
   },
   "outputs": [],
   "source": [
    "from langchain_community.chat_models import ChatBaichuan\n",
    "from langchain_core.messages import HumanMessage"
   ]
  },
  {
   "cell_type": "code",
   "execution_count": 2,
   "metadata": {
    "ExecuteTime": {
     "end_time": "2023-10-17T15:14:24.191123Z",
     "start_time": "2023-10-17T15:14:24.186330Z"
    }
   },
   "outputs": [],
   "source": [
    "chat = ChatBaichuan(baichuan_api_key=\"YOUR_API_KEY\")"
   ]
  },
  {
   "cell_type": "markdown",
   "metadata": {},
   "source": [
    "Alternatively, you can set your API key with:"
   ]
  },
  {
   "cell_type": "code",
   "execution_count": null,
   "metadata": {},
   "outputs": [],
   "source": [
    "import os\n",
    "\n",
    "os.environ[\"BAICHUAN_API_KEY\"] = \"YOUR_API_KEY\""
   ]
  },
  {
   "cell_type": "code",
   "execution_count": 3,
   "metadata": {
    "ExecuteTime": {
     "end_time": "2023-10-17T15:14:25.853218Z",
     "start_time": "2023-10-17T15:14:24.192408Z"
    }
   },
   "outputs": [
    {
     "data": {
      "text/plain": [
       "AIMessage(content='\u9996\u5148\uff0c\u6211\u4eec\u9700\u8981\u786e\u5b9a\u95f0\u5e74\u7684\u4e8c\u6708\u6709\u591a\u5c11\u5929\u3002\u95f0\u5e74\u7684\u4e8c\u6708\u670929\u5929\u3002\\n\\n\u7136\u540e\uff0c\u6211\u4eec\u53ef\u4ee5\u8ba1\u7b97\u4f60\u7684\u6708\u85aa\uff1a\\n\\n\u65e5\u85aa = \u6708\u85aa / (\u5f53\u6708\u5929\u6570)\\n\\n\u6240\u4ee5\uff0c\u4f60\u7684\u6708\u85aa = \u65e5\u85aa * \u5f53\u6708\u5929\u6570\\n\\n\u5c06\u6570\u503c\u4ee3\u5165\u516c\u5f0f\uff1a\\n\\n\u6708\u85aa = 8\u5143/\u5929 * 29\u5929 = 232\u5143\\n\\n\u56e0\u6b64\uff0c\u4f60\u5728\u95f0\u5e74\u7684\u4e8c\u6708\u7684\u6708\u85aa\u662f232\u5143\u3002')"
      ]
     },
     "execution_count": 3,
     "metadata": {},
     "output_type": "execute_result"
    }
   ],
   "source": [
    "chat([HumanMessage(content=\"\u6211\u65e5\u85aa8\u5757\u94b1\uff0c\u8bf7\u95ee\u5728\u95f0\u5e74\u7684\u4e8c\u6708\uff0c\u6211\u6708\u85aa\u591a\u5c11\")])"
   ]
  },
  {
   "cell_type": "markdown",
   "metadata": {
    "collapsed": false
   },
   "source": [
    "## Chat with Baichuan-192K with Streaming"
   ]
  },
  {
   "cell_type": "code",
   "execution_count": 5,
   "metadata": {
    "ExecuteTime": {
     "end_time": "2023-10-17T15:14:25.870044Z",
     "start_time": "2023-10-17T15:14:25.863381Z"
    },
    "collapsed": false
   },
   "outputs": [],
   "source": [
    "chat = ChatBaichuan(\n",
    "    baichuan_api_key=\"YOUR_API_KEY\",\n",
    "    streaming=True,\n",
    ")"
   ]
  },
  {
   "cell_type": "code",
   "execution_count": 6,
   "metadata": {
    "ExecuteTime": {
     "end_time": "2023-10-17T15:14:27.153546Z",
     "start_time": "2023-10-17T15:14:25.868470Z"
    },
    "collapsed": false
   },
   "outputs": [
    {
     "data": {
      "text/plain": [
       "AIMessageChunk(content='\u9996\u5148\uff0c\u6211\u4eec\u9700\u8981\u786e\u5b9a\u95f0\u5e74\u7684\u4e8c\u6708\u6709\u591a\u5c11\u5929\u3002\u95f0\u5e74\u7684\u4e8c\u6708\u670929\u5929\u3002\\n\\n\u7136\u540e\uff0c\u6211\u4eec\u53ef\u4ee5\u8ba1\u7b97\u4f60\u7684\u6708\u85aa\uff1a\\n\\n\u65e5\u85aa = \u6708\u85aa / (\u5f53\u6708\u5929\u6570)\\n\\n\u6240\u4ee5\uff0c\u4f60\u7684\u6708\u85aa = \u65e5\u85aa * \u5f53\u6708\u5929\u6570\\n\\n\u5c06\u6570\u503c\u4ee3\u5165\u516c\u5f0f\uff1a\\n\\n\u6708\u85aa = 8\u5143/\u5929 * 29\u5929 = 232\u5143\\n\\n\u56e0\u6b64\uff0c\u4f60\u5728\u95f0\u5e74\u7684\u4e8c\u6708\u7684\u6708\u85aa\u662f232\u5143\u3002')"
      ]
     },
     "execution_count": 6,
     "metadata": {},
     "output_type": "execute_result"
    }
   ],
   "source": [
    "chat([HumanMessage(content=\"\u6211\u65e5\u85aa8\u5757\u94b1\uff0c\u8bf7\u95ee\u5728\u95f0\u5e74\u7684\u4e8c\u6708\uff0c\u6211\u6708\u85aa\u591a\u5c11\")])"
   ]
  }
 ],
 "metadata": {
  "kernelspec": {
   "display_name": "Python 3 (ipykernel)",
   "language": "python",
   "name": "python3"
  },
  "language_info": {
   "codemirror_mode": {
    "name": "ipython",
    "version": 3
   },
   "file_extension": ".py",
   "mimetype": "text/x-python",
   "name": "python",
   "nbconvert_exporter": "python",
   "pygments_lexer": "ipython3",
   "version": "3.11.4"
  }
 },
 "nbformat": 4,
 "nbformat_minor": 2
}